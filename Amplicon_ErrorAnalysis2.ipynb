{
 "cells": [
  {
   "cell_type": "code",
   "execution_count": 67,
   "id": "b2e3b0c1-dd26-4a97-af46-a0f4a3ed98af",
   "metadata": {
    "tags": []
   },
   "outputs": [
    {
     "data": {
      "text/plain": [
       "1             0.418101\n",
       "WT            0.257358\n",
       "indeletion    0.192985\n",
       "2             0.107110\n",
       "3             0.017621\n",
       "4             0.004191\n",
       "5             0.001787\n",
       "6             0.000558\n",
       "7             0.000135\n",
       "8             0.000054\n",
       "11            0.000050\n",
       "9             0.000041\n",
       "10            0.000009\n",
       "Name: No_mutations, dtype: float64"
      ]
     },
     "execution_count": 67,
     "metadata": {},
     "output_type": "execute_result"
    }
   ],
   "source": [
    "import pandas as pd\n",
    "df = pd.read_csv ('Output_ErrorAnalysis_AP3.csv')\n",
    "df['No_mutations'].value_counts(normalize=True)"
   ]
  },
  {
   "cell_type": "code",
   "execution_count": 68,
   "id": "31a33408-f2a3-4a3e-bb2d-c62b35a7ba2d",
   "metadata": {
    "tags": []
   },
   "outputs": [],
   "source": [
    "one_mutation = df[(df[\"No_mutations\"] == '1')]\n",
    "newdf = one_mutation.groupby(['Position','AminoAcid']).AminoAcid.agg('count').to_frame('AP3_Count').reset_index()\n",
    "newdf = newdf[newdf['AminoAcid'] != '[\\'N/A\\']']"
   ]
  },
  {
   "cell_type": "code",
   "execution_count": 69,
   "id": "a8e2406c-f750-4ac1-8882-3b8dd9b53834",
   "metadata": {
    "tags": []
   },
   "outputs": [
    {
     "data": {
      "text/plain": [
       "[131]    21\n",
       "[111]    21\n",
       "[90]     21\n",
       "[122]    21\n",
       "[142]    21\n",
       "[168]    21\n",
       "[146]    21\n",
       "[175]    21\n",
       "[166]    21\n",
       "[102]    18\n",
       "[115]    11\n",
       "Name: Position, dtype: int64"
      ]
     },
     "execution_count": 69,
     "metadata": {},
     "output_type": "execute_result"
    }
   ],
   "source": [
    "newdf['Position'].value_counts()"
   ]
  },
  {
   "cell_type": "code",
   "execution_count": 70,
   "id": "2c13be7b-776a-41f9-ac2a-3d8f9da28a8a",
   "metadata": {},
   "outputs": [
    {
     "data": {
      "text/html": [
       "<div>\n",
       "<style scoped>\n",
       "    .dataframe tbody tr th:only-of-type {\n",
       "        vertical-align: middle;\n",
       "    }\n",
       "\n",
       "    .dataframe tbody tr th {\n",
       "        vertical-align: top;\n",
       "    }\n",
       "\n",
       "    .dataframe thead th {\n",
       "        text-align: right;\n",
       "    }\n",
       "</style>\n",
       "<table border=\"1\" class=\"dataframe\">\n",
       "  <thead>\n",
       "    <tr style=\"text-align: right;\">\n",
       "      <th></th>\n",
       "      <th>Position</th>\n",
       "      <th>AminoAcid</th>\n",
       "      <th>AP3_Count</th>\n",
       "      <th>AP3_Percent</th>\n",
       "    </tr>\n",
       "  </thead>\n",
       "  <tbody>\n",
       "    <tr>\n",
       "      <th>0</th>\n",
       "      <td>[102]</td>\n",
       "      <td>['A']</td>\n",
       "      <td>75</td>\n",
       "      <td>0.080757</td>\n",
       "    </tr>\n",
       "    <tr>\n",
       "      <th>1</th>\n",
       "      <td>[102]</td>\n",
       "      <td>['C']</td>\n",
       "      <td>51</td>\n",
       "      <td>0.054915</td>\n",
       "    </tr>\n",
       "    <tr>\n",
       "      <th>2</th>\n",
       "      <td>[102]</td>\n",
       "      <td>['E']</td>\n",
       "      <td>447</td>\n",
       "      <td>0.481313</td>\n",
       "    </tr>\n",
       "    <tr>\n",
       "      <th>3</th>\n",
       "      <td>[102]</td>\n",
       "      <td>['F']</td>\n",
       "      <td>11</td>\n",
       "      <td>0.011844</td>\n",
       "    </tr>\n",
       "    <tr>\n",
       "      <th>4</th>\n",
       "      <td>[102]</td>\n",
       "      <td>['G']</td>\n",
       "      <td>177</td>\n",
       "      <td>0.190587</td>\n",
       "    </tr>\n",
       "  </tbody>\n",
       "</table>\n",
       "</div>"
      ],
      "text/plain": [
       "  Position AminoAcid  AP3_Count  AP3_Percent\n",
       "0    [102]     ['A']         75     0.080757\n",
       "1    [102]     ['C']         51     0.054915\n",
       "2    [102]     ['E']        447     0.481313\n",
       "3    [102]     ['F']         11     0.011844\n",
       "4    [102]     ['G']        177     0.190587"
      ]
     },
     "execution_count": 70,
     "metadata": {},
     "output_type": "execute_result"
    }
   ],
   "source": [
    "total = newdf['AP3_Count'].sum()\n",
    "newdf['AP3_Percent'] = (newdf['AP3_Count'] / total)*100\n",
    "newdf.head()"
   ]
  },
  {
   "cell_type": "code",
   "execution_count": 71,
   "id": "274a0575-5add-45a6-9990-3005cfd14783",
   "metadata": {},
   "outputs": [],
   "source": [
    "newdf.to_csv('CheckMutatioon_AP3.csv')"
   ]
  },
  {
   "cell_type": "code",
   "execution_count": null,
   "id": "8b98008b-9df0-4c80-be67-5f9727f04dc9",
   "metadata": {},
   "outputs": [],
   "source": []
  }
 ],
 "metadata": {
  "kernelspec": {
   "display_name": "Python 3",
   "language": "python",
   "name": "python3"
  },
  "language_info": {
   "codemirror_mode": {
    "name": "ipython",
    "version": 3
   },
   "file_extension": ".py",
   "mimetype": "text/x-python",
   "name": "python",
   "nbconvert_exporter": "python",
   "pygments_lexer": "ipython3",
   "version": "3.9.2"
  }
 },
 "nbformat": 4,
 "nbformat_minor": 5
}
