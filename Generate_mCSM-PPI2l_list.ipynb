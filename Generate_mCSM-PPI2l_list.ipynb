{
 "cells": [
  {
   "cell_type": "code",
   "execution_count": 5,
   "id": "7e8f2e5f-fb4f-46db-8575-48737bf81d78",
   "metadata": {},
   "outputs": [],
   "source": [
    "list_positions_6lr7 = {90:'E',111:'E',115:'E',122:'R'}\n",
    "list_positions_3k1k = {102:'D',131:'K',142:'E',146:'N',166:'K',168:'R',175:'S'}\n",
    "list_AA = ['R','H','K','D','E','P','G','C','Q','N','T','S','A','V','I','L','M','F','Y','W']\n",
    "chain = 'A'\n",
    "\n",
    "file1 = open(\"6lr7mutation.txt\",\"w+\")\n",
    "for position, wild in list_positions_6lr7.items():\n",
    "    for aa in list_AA:\n",
    "        if (str(wild) != str(aa)):\n",
    "            file1.write(str(chain) + \" \" + str(wild) + str(position) + str(aa) + \"\\n\" )\n",
    "file1.close()\n",
    "\n",
    "file2 = open(\"3k1kmutation.txt\",\"w+\")\n",
    "for position, wild in list_positions_3k1k.items():\n",
    "    for aa in list_AA:\n",
    "        if (str(wild) != str(aa)):\n",
    "            file2.write(str(chain) + \" \" + str(wild) + str(position) + str(aa) + \"\\n\" )\n",
    "file2.close()"
   ]
  },
  {
   "cell_type": "code",
   "execution_count": null,
   "id": "5f4ca583-394d-40ec-a59f-03c91e802963",
   "metadata": {},
   "outputs": [],
   "source": []
  }
 ],
 "metadata": {
  "kernelspec": {
   "display_name": "Python 3",
   "language": "python",
   "name": "python3"
  },
  "language_info": {
   "codemirror_mode": {
    "name": "ipython",
    "version": 3
   },
   "file_extension": ".py",
   "mimetype": "text/x-python",
   "name": "python",
   "nbconvert_exporter": "python",
   "pygments_lexer": "ipython3",
   "version": "3.9.2"
  }
 },
 "nbformat": 4,
 "nbformat_minor": 5
}
